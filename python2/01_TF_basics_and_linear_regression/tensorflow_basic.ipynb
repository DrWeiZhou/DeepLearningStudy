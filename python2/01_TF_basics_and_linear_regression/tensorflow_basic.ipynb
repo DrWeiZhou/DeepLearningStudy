{
 "cells": [
  {
   "cell_type": "markdown",
   "metadata": {},
   "source": [
    "# TensorFlow基础\n",
    "此处使用python2写法，可以用pyenv安装anaconda2-4.4.0亦即python 2.7对应版本运行"
   ]
  },
  {
   "cell_type": "markdown",
   "metadata": {},
   "source": [
    "## Session\n",
    "Session is a class for running TensorFlow operations. A Session object encapsulates the environment in which Operation objects are executed, and Tensor objects are evaluated. In this tutorial, we will use a session to print out the value of tensor. Session can be used as follows:"
   ]
  },
  {
   "cell_type": "code",
   "execution_count": 1,
   "metadata": {},
   "outputs": [
    {
     "name": "stdout",
     "output_type": "stream",
     "text": [
      "100\n",
      "100\n",
      "100\n"
     ]
    }
   ],
   "source": [
    "import tensorflow as tf\n",
    "\n",
    "a = tf.constant(100)\n",
    "\n",
    "with tf.Session() as sess:\n",
    "    print sess.run(a)\n",
    "    #syntactic sugar\n",
    "    print a.eval()\n",
    "    \n",
    "# or\n",
    "\n",
    "sess = tf.Session()\n",
    "print sess.run(a)\n",
    "# print a.eval()     # this will print out an error"
   ]
  },
  {
   "cell_type": "markdown",
   "metadata": {},
   "source": [
    "## Interactive session\n",
    "Interactive session is a TensorFlow session for use in interactive contexts, such as a shell. The only difference with a regular Session is that an Interactive session installs itself as the default session on construction. The methods [Tensor.eval()](https://www.tensorflow.org/versions/r0.11/api_docs/python/framework.html#Tensor) and [Operation.run()](https://www.tensorflow.org/versions/r0.11/api_docs/python/framework.html#Operation) will use that session to run ops.This is convenient in interactive shells and IPython notebooks, as it avoids having to pass an explicit Session object to run ops."
   ]
  },
  {
   "cell_type": "code",
   "execution_count": 2,
   "metadata": {},
   "outputs": [
    {
     "name": "stdout",
     "output_type": "stream",
     "text": [
      "100\n"
     ]
    }
   ],
   "source": [
    "sess = tf.InteractiveSession()\n",
    "\n",
    "print a.eval()    # simple usage  "
   ]
  },
  {
   "cell_type": "markdown",
   "metadata": {},
   "source": [
    "## Constants\n",
    "We can use the `help` function to get an annotation about any function. Just type `help(tf.consant)` on the below cell and run it.\n",
    "It will print out `constant(value, dtype=None, shape=None, name='Const')` at the top. Value of tensor constant can be scalar, matrix or tensor (more than 2-dimensional matrix). Also, you can get a shape of tensor by running [tensor.get_shape()](https://www.tensorflow.org/versions/r0.11/api_docs/python/framework.html#Tensor)`.as_list()`. \n",
    "\n",
    "* tensor.get_shape()\n",
    "* tensor.get_shape().as_list()"
   ]
  },
  {
   "cell_type": "code",
   "execution_count": 3,
   "metadata": {},
   "outputs": [
    {
     "name": "stdout",
     "output_type": "stream",
     "text": [
      "[[ 1.  2.  3.]\n",
      " [ 4.  5.  6.]]\n",
      "shape:  (2, 3) ,type:  <class 'tensorflow.python.framework.tensor_shape.TensorShape'>\n",
      "shape:  [2, 3] ,type:  <type 'list'>\n"
     ]
    }
   ],
   "source": [
    "a = tf.constant([[1, 2, 3], [4, 5, 6]], dtype=tf.float32, name='a')\n",
    "print a.eval()\n",
    "print \"shape: \", a.get_shape(), \",type: \", type(a.get_shape())\n",
    "print \"shape: \", a.get_shape().as_list(), \",type: \", type(a.get_shape().as_list())   # this is more useful"
   ]
  },
  {
   "cell_type": "markdown",
   "metadata": {},
   "source": [
    "## Basic functions\n",
    "There are some basic functions we need to know. Those functions will be used in next tutorial **3. feed_forward_neural_network**.\n",
    "* tf.argmax\n",
    "* tf.reduce_sum\n",
    "* tf.equal\n",
    "* tf.random_normal"
   ]
  },
  {
   "cell_type": "markdown",
   "metadata": {},
   "source": [
    "#### tf.argmax \n",
    "`tf.argmax(input, dimension, name=None)` returns the index with the largest value across dimensions of a tensor.\n"
   ]
  },
  {
   "cell_type": "code",
   "execution_count": 4,
   "metadata": {},
   "outputs": [
    {
     "name": "stdout",
     "output_type": "stream",
     "text": [
      "[[1 6 5]\n",
      " [2 3 4]]\n",
      "argmax over axis 0\n",
      "[1 0 0]\n",
      "argmax over axis 1\n",
      "[1 2]\n"
     ]
    }
   ],
   "source": [
    "a = tf.constant([[1, 6, 5], [2, 3, 4]])\n",
    "print a.eval()\n",
    "print \"argmax over axis 0\"\n",
    "print tf.argmax(a, 0).eval()\n",
    "print \"argmax over axis 1\"\n",
    "print tf.argmax(a, 1).eval()"
   ]
  },
  {
   "cell_type": "markdown",
   "metadata": {},
   "source": [
    "#### tf.reduce_sum\n",
    "`tf.reduce_sum(input_tensor, reduction_indices=None, keep_dims=False, name=None)` computes the sum of elements across dimensions of a tensor. Unless `keep_dims` is true, the rank of the tensor is reduced by 1 for each entry in reduction_indices. If `keep_dims` is true, the reduced dimensions are retained with length 1. If `reduction_indices` has no entries, all dimensions are reduced, and a tensor with a single element is returned"
   ]
  },
  {
   "cell_type": "code",
   "execution_count": 5,
   "metadata": {},
   "outputs": [
    {
     "name": "stdout",
     "output_type": "stream",
     "text": [
      "[[1 1 1]\n",
      " [2 2 2]]\n",
      "reduce_sum over entire matrix\n",
      "9\n",
      "reduce_sum over axis 0\n",
      "[3 3 3]\n",
      "reduce_sum over axis 0 + keep dimensions\n",
      "[[3 3 3]]\n",
      "reduce_sum over axis 1\n",
      "[3 6]\n",
      "reduce_sum over axis 1 + keep dimensions\n",
      "[[3]\n",
      " [6]]\n"
     ]
    }
   ],
   "source": [
    "a = tf.constant([[1, 1, 1], [2, 2, 2]])\n",
    "print a.eval()\n",
    "print \"reduce_sum over entire matrix\"\n",
    "print tf.reduce_sum(a).eval()\n",
    "print \"reduce_sum over axis 0\"\n",
    "print tf.reduce_sum(a, 0).eval()\n",
    "print \"reduce_sum over axis 0 + keep dimensions\"\n",
    "print tf.reduce_sum(a, 0, keep_dims=True).eval()\n",
    "print \"reduce_sum over axis 1\"\n",
    "print tf.reduce_sum(a, 1).eval()\n",
    "print \"reduce_sum over axis 1 + keep dimensions\"\n",
    "print tf.reduce_sum(a, 1, keep_dims=True).eval()"
   ]
  },
  {
   "cell_type": "markdown",
   "metadata": {},
   "source": [
    "#### tf.equal\n",
    "`tf.equal(x, y, name=None)` returns the truth value of `(x == y)` element-wise. Note that `tf.equal` supports broadcasting. For more about broadcasting, please see [here](http://docs.scipy.org/doc/numpy/user/basics.broadcasting.html)."
   ]
  },
  {
   "cell_type": "code",
   "execution_count": 6,
   "metadata": {},
   "outputs": [
    {
     "name": "stdout",
     "output_type": "stream",
     "text": [
      "[[1 0 0]\n",
      " [0 1 1]]\n",
      "Equal to 1?\n",
      "[[ True False False]\n",
      " [False  True  True]]\n",
      "Not equal to 1?\n",
      "[[False  True  True]\n",
      " [ True False False]]\n"
     ]
    }
   ],
   "source": [
    "a = tf.constant([[1, 0, 0], [0, 1, 1]])\n",
    "print a.eval()\n",
    "print \"Equal to 1?\"\n",
    "print tf.equal(a, 1).eval()\n",
    "print \"Not equal to 1?\"\n",
    "print tf.not_equal(a, 1).eval()"
   ]
  },
  {
   "cell_type": "markdown",
   "metadata": {},
   "source": [
    "#### tf.random_normal\n",
    "`tf.random_normal(shape, mean=0.0, stddev=1.0, dtype=tf.float32, seed=None, name=None)` outputs random values from a normal distribution.\n"
   ]
  },
  {
   "cell_type": "code",
   "execution_count": 7,
   "metadata": {},
   "outputs": [
    {
     "name": "stdout",
     "output_type": "stream",
     "text": [
      "[-0.10547373  0.14595924  0.12629835]\n"
     ]
    }
   ],
   "source": [
    "normal = tf.random_normal([3], stddev=0.1)\n",
    "print normal.eval()"
   ]
  },
  {
   "cell_type": "markdown",
   "metadata": {},
   "source": [
    "## Variables\n",
    "When we train a model, we use variables to hold and update parameters. Variables are in-memory buffers containing tensors. They must be explicitly initialized and can be saved to disk during and after training. we can later restore saved values to exercise or analyze the model.\n",
    "\n",
    "* tf.Variable\n",
    "* tf.Tensor.name\n",
    "* tf.all_variables\n"
   ]
  },
  {
   "cell_type": "markdown",
   "metadata": {},
   "source": [
    "#### tf.Variable\n",
    "`tf.Variable(initial_value=None, trainable=True, name=None, variable_def=None, dtype=None)` creates a new variable with value `initial_value`.\n",
    "The new variable is added to the graph collections listed in collections, which defaults to `[GraphKeys.VARIABLES]`. If `trainable` is true, the variable is also added to the graph collection `GraphKeys.TRAINABLE_VARIABLES`. "
   ]
  },
  {
   "cell_type": "code",
   "execution_count": 8,
   "metadata": {},
   "outputs": [
    {
     "name": "stdout",
     "output_type": "stream",
     "text": [
      "var:0\n",
      "[ 0.09533361 -0.01884578  0.02439106]\n"
     ]
    }
   ],
   "source": [
    "# variable will be initialized with normal distribution\n",
    "var = tf.Variable(tf.random_normal([3], stddev=0.1), name='var')\n",
    "print var.name\n",
    "tf.initialize_all_variables().run()\n",
    "print var.eval()"
   ]
  },
  {
   "cell_type": "markdown",
   "metadata": {},
   "source": [
    "#### tf.Tensor.name\n",
    "We can call `tf.Variable` and give the same name `my_var` more than once as seen below. Note that `var3.name` prints out `my_var_1:0` instead of `my_var:0`. This is because TensorFlow doesn't allow user to create variables with the same name. In this case, TensorFlow adds `'_1'` to the original name instead of printing out an error message. Note that you should be careful not to call `tf.Variable` giving same name more than once, because it will cause a fatal problem when you save and restore the variables."
   ]
  },
  {
   "cell_type": "code",
   "execution_count": 9,
   "metadata": {},
   "outputs": [
    {
     "name": "stdout",
     "output_type": "stream",
     "text": [
      "my_var:0\n",
      "my_var_1:0\n"
     ]
    }
   ],
   "source": [
    "var2 = tf.Variable(tf.random_normal([2, 3], stddev=0.1), name='my_var')\n",
    "var3 = tf.Variable(tf.random_normal([2, 3], stddev=0.1), name='my_var')\n",
    "print var2.name\n",
    "print var3.name"
   ]
  },
  {
   "cell_type": "markdown",
   "metadata": {},
   "source": [
    "#### tf.all_variables\n",
    "Using `tf.all_variables()`, we can get the names of all existing variables as follows:"
   ]
  },
  {
   "cell_type": "code",
   "execution_count": 10,
   "metadata": {},
   "outputs": [
    {
     "name": "stdout",
     "output_type": "stream",
     "text": [
      "var:0\n",
      "my_var:0\n",
      "my_var_1:0\n"
     ]
    }
   ],
   "source": [
    "for var in tf.all_variables():\n",
    "    print var.name"
   ]
  },
  {
   "cell_type": "markdown",
   "metadata": {},
   "source": [
    "## Sharing variables\n",
    "TensorFlow provides several classes and operations that you can use to create variables contingent on certain conditions.\n",
    "* tf.get_variable\n",
    "* tf.variable_scope\n",
    "* reuse_variables"
   ]
  },
  {
   "cell_type": "markdown",
   "metadata": {},
   "source": [
    "#### tf.get_variable\n",
    "`tf.get_variable(name, shape=None, dtype=None, initializer=None, trainable=True)` is used to get or create a variable instead of a direct call to `tf.Variable`. It uses an initializer instead of passing the value directly, as in `tf.Variable`. An initializer is a function that takes the shape and provides a tensor with that shape. Here are some initializers available in TensorFlow:\n",
    "\n",
    "* `tf.constant_initializer(value)` initializes everything to the provided value,\n",
    "* `tf.random_uniform_initializer(a, b)` initializes uniformly from [a, b],\n",
    "* `tf.random_normal_initializer(mean, stddev)` initializes from the normal distribution with the given mean and standard deviation."
   ]
  },
  {
   "cell_type": "code",
   "execution_count": 11,
   "metadata": {},
   "outputs": [
    {
     "name": "stdout",
     "output_type": "stream",
     "text": [
      "[[-0.07411054 -0.1204523   0.12766932]\n",
      " [-0.0053311   0.12680909 -0.10410611]]\n"
     ]
    }
   ],
   "source": [
    "my_initializer = tf.random_normal_initializer(mean=0, stddev=0.1)\n",
    "v = tf.get_variable('v', shape=[2, 3], initializer=my_initializer)\n",
    "tf.initialize_all_variables().run()\n",
    "print v.eval()"
   ]
  },
  {
   "cell_type": "markdown",
   "metadata": {},
   "source": [
    "#### tf.variable_scope\n",
    "`tf.variable_scope(scope_name)` manages namespaces for names passed to `tf.get_variable`."
   ]
  },
  {
   "cell_type": "code",
   "execution_count": 12,
   "metadata": {},
   "outputs": [
    {
     "name": "stdout",
     "output_type": "stream",
     "text": [
      "layer1/v:0\n",
      "layer2/v:0\n"
     ]
    }
   ],
   "source": [
    "with tf.variable_scope('layer1'):\n",
    "    w = tf.get_variable('v', shape=[2, 3], initializer=my_initializer)\n",
    "    print w.name\n",
    "    \n",
    "with tf.variable_scope('layer2'):\n",
    "    w = tf.get_variable('v', shape=[2, 3], initializer=my_initializer)\n",
    "    print w.name"
   ]
  },
  {
   "cell_type": "markdown",
   "metadata": {},
   "source": [
    "#### reuse_variables\n",
    "Note that you should run the cell above only once. If you run the code above more than once, an error message will be printed out: `\"ValueError: Variable layer1/v already exists, disallowed.\"`. This is because we used `tf.get_variable` above, and this function doesn't allow creating variables with the existing names. We can solve this problem by using `scope.reuse_variables()` to get preivously created variables instead of creating new ones. "
   ]
  },
  {
   "cell_type": "code",
   "execution_count": 13,
   "metadata": {},
   "outputs": [
    {
     "name": "stdout",
     "output_type": "stream",
     "text": [
      "layer1/v:0\n",
      "layer1/v:0\n"
     ]
    }
   ],
   "source": [
    "with tf.variable_scope('layer1', reuse=True):\n",
    "    w = tf.get_variable('v')   # Unlike above, we don't need to specify shape and initializer \n",
    "    print w.name\n",
    "\n",
    "# or\n",
    "\n",
    "with tf.variable_scope('layer1') as scope:\n",
    "    scope.reuse_variables()\n",
    "    w = tf.get_variable('v')\n",
    "    print w.name"
   ]
  },
  {
   "cell_type": "markdown",
   "metadata": {},
   "source": [
    "## Place holder\n",
    "TensorFlow provides a placeholder operation that must be fed with data on execution. If you want to get more details about placeholder, please see [here](https://www.tensorflow.org/versions/r0.11/api_docs/python/io_ops.html#placeholder)."
   ]
  },
  {
   "cell_type": "code",
   "execution_count": 14,
   "metadata": {},
   "outputs": [
    {
     "name": "stdout",
     "output_type": "stream",
     "text": [
      "2 + 3 = 5\n",
      "3 x 4 = 12\n"
     ]
    }
   ],
   "source": [
    "x = tf.placeholder(tf.int16)\n",
    "y = tf.placeholder(tf.int16)\n",
    "\n",
    "add = tf.add(x, y)\n",
    "mul = tf.mul(x, y)\n",
    "\n",
    "# Launch default graph.\n",
    "print \"2 + 3 = %d\" % sess.run(add, feed_dict={x: 2, y: 3})\n",
    "print \"3 x 4 = %d\" % sess.run(mul, feed_dict={x: 3, y: 4})"
   ]
  }
 ],
 "metadata": {
  "kernelspec": {
   "display_name": "Python 3",
   "language": "python",
   "name": "python3"
  },
  "language_info": {
   "codemirror_mode": {
    "name": "ipython",
    "version": 3
   },
   "file_extension": ".py",
   "mimetype": "text/x-python",
   "name": "python",
   "nbconvert_exporter": "python",
   "pygments_lexer": "ipython3",
   "version": "3.6.1"
  }
 },
 "nbformat": 4,
 "nbformat_minor": 1
}
